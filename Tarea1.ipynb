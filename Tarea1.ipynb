{
 "cells": [
  {
   "cell_type": "code",
   "execution_count": 10,
   "metadata": {
    "collapsed": false
   },
   "outputs": [],
   "source": [
    "from scipy.stats import binom\n",
    "from scipy.integrate import simps, trapz, quad, cumtrapz\n",
    "from scipy.misc import comb\n",
    "from scipy.special import binom as bnm\n",
    "import numpy as np\n",
    "import matplotlib.pyplot as plt\n",
    "%matplotlib inline\n",
    "\n",
    "#Lo usaremos para Problema 2\n",
    "def func_binomial(r):\n",
    "    bim = bnm(33, 18)\n",
    "    #print bim\n",
    "    f = bim*(1-r)**(15)*r**18\n",
    "    return f\n",
    "\n",
    " "
   ]
  },
  {
   "cell_type": "markdown",
   "metadata": {},
   "source": [
    "${\\bf Problema \\text{ 1}}$\n",
    "\n",
    "${\\bf a)}$ Sea A y B eventos disjuntos, i.e., $A \\cap B = {\\emptyset} \\Leftrightarrow \\mathbb{P}(A\\cap B) = 0$  , con probabilidad positiva ($\\mathbb{P}(A),\\mathbb{P}(B)>0$), $A$ y $B$ ${\\bf nunca}$ pueden ser independientes ya que $\\mathbb{P}(A\\cap B)= \\mathbb{P}(A) \\mathbb{P}(B) = 0$, es decir, $\\mathbb{P}(A) = 0 $ o $\\mathbb{P}(B) = 0$ lo cual contradice la hipótesis de probabilidad positiva; sólo se cumple para el caso trivial en donde alguna de las probabilidades es 0 (caso trivial/nulo). \n",
    "\n",
    "Ahora pensando pedagógicamente, la definición de eventos ${\\bf disjuntos}$ es vista en el ámbito de teoría de conjuntos, mientras que la ${\\bf independencia}$ pertenece al ámbito de las probabilidades. Dos eventos disjuntos nunca pueden pasar al mismo tiempo, mientras que los independientes sí puede ser (o no, o uno sí y el otro no).\n",
    "\n",
    "Un ejemplo astronómico para dos eventos disjuntos sería: sea $A=$ esta supernova es de tipo Ia (binarias con al menos una enana blanca) y $B=$ esta supernova es de tipo II (digamos que producto de evolución estelar de una estrella masiva); ambas teorías son viables para una supernova, pero totalmente (hasta ahora) excluyentes (= intersección vacía). \n",
    "\n",
    "Para eventos independientes, tomemos que $A=$ La galaxia X es una galaxia espiral y $B=$ La galaxia X está a 3 Kpc de la Tierra; ambos eventos existen por sí solos y no son excluyentes.\n",
    "\n",
    "${\\bf b)}$ Para demostrar que $A^{c} \\text{ y } B^{c}$ son independientes dado que $A$ y $B$ lo son $(*)$, notemos que:\n",
    "\n",
    "i) Sea $X=\\{A,B\\}$, $Y=\\{B,A\\}$, $X_{i}$ y $Y_{i}$ son independientes $(*)$. Demostraremos que $X_{i}^{c}$ e $Y_{i}$ lo son\n",
    "\n",
    "\\begin{align}\n",
    "X_{i} &= X_{i}Y_{i}\\cup X_{i}^{c}Y_{i}                \\text{                             son disjuntos}\\\\\n",
    "\\rightarrow \\mathbb{P}(X_{i}) &= \\underbrace{\\mathbb{P}(X_{i}Y_{i})}_{(*)} + \\mathbb{P}(X_{i}^{c}Y_{i})\\\\\n",
    "\\rightarrow \\mathbb{P}(X_{i}) &= \\mathbb{P}(X_{i})\\mathbb{P}(Y_{i}) + \\mathbb{P}(X_{i}^{c}Y_{i}) \\\\\n",
    "\\rightarrow \\mathbb{P}(X_{i}^{c}Y_{i})  &= \\underbrace{ (1 - \\mathbb{P}(X_{i})) }_{ \\mathbb{P}(X_{i}^{c}) \\text{ por def.}}\\mathbb{P}(Y_{i})\\\\\n",
    "\\rightarrow \\mathbb{P}(X_{i}^{c}Y_{i}) &= \\mathbb{P}(X_{i}^{c})\\mathbb{P}(Y_{i})\\\\\n",
    "\\end{align}\n",
    "\n",
    "Por ende, $\\{A^{c},B\\}$ y $\\{B^{c},A\\}$ son independientes $(**)$.\n",
    "\n",
    "ii) Ahora mostremos que $A^{c}$ y $B^{c}$ son independientes:\n",
    "\\begin{align}\n",
    "A^{c} &= A^{c}B^{c}\\cup A^{c}B  \\text{ ${\\bf disjuntos}$}\\\\\n",
    "\\rightarrow \\mathbb{P}(A^{c}) &= \\mathbb{P}(A^{c}B^{c}) + \\underbrace{\\mathbb{P}(A^{c}B)}_{\\mathbb{P}(A^{c})\\mathbb{P}(B) \\text{ por i)} }\\\\\n",
    "\\rightarrow \\mathbb{P}(A^{c}B^{c}) &= \\underbrace{(1-\\mathbb{P}(B))}_{\\mathbb{P}(B^{c})} \\mathbb{P}(A^{c}) \\\\\n",
    "\\rightarrow \\mathbb{P}(A^{c}B^{c}) &= \\mathbb{P}(A^{c})\\mathbb{P}(B^{c})\n",
    "\\end{align}\n",
    "\n",
    "\n",
    "   \n",
    "\n",
    "${\\bf Problema \\text{ 2}}$"
   ]
  },
  {
   "cell_type": "markdown",
   "metadata": {},
   "source": [
    "${\\bf a)}$ $X\\sim \\text{Binomial}(N,r)$, con $X$ el número de personas que optaron por quedarse con la puerta inicial, $N$ el número total de personas encuestadas y $r$ la probabilidad de quedarse con la puerta inicial. Los parámetros que tenemos son $N=33$ y $X=18$. \n",
    "\n",
    "\n",
    "b) Para calcular $\\mathbb{P}(X=18$ | $r=0.5)$, usamos que $X\\sim \\text{Binomial}(N,r)$, con pmf:\n",
    "\\begin{align}\n",
    "f_{X}(x) = \\binom{N}{x}r^{x}(1-r)^{N-x}\n",
    "\\end{align}\n",
    "\n",
    "donde $N$ es el número de encuestados, $r$ la probabilidad de quedarse con la puerta original y $x$ la cantidad de personas escogiéndola. Ahora, seteando $N=33$, $X=18$ y $r=0.5$ obtenemos:\n",
    "\n",
    "\\begin{align}\n",
    " \\mathbb{P}(X=18 | r=0.5) &= f_{X}(x=18) \\\\\n",
    " &= \\binom{33}{18}0.5^{33} \\\\\n",
    " &= 0.12\n",
    "\\end{align}"
   ]
  },
  {
   "cell_type": "code",
   "execution_count": 11,
   "metadata": {
    "collapsed": false
   },
   "outputs": [
    {
     "name": "stdout",
     "output_type": "stream",
     "text": [
      "0.120741119608\n"
     ]
    }
   ],
   "source": [
    "#Calculamos probabilidad anterior\n",
    "prob = binom(33,0.5).pmf(18)\n",
    "print prob"
   ]
  },
  {
   "cell_type": "markdown",
   "metadata": {},
   "source": [
    "Es decir, hay un $12\\%$ de obtener exactamente 18 personas, de un total de 33, que hayan elegido la primera respuesta.\n",
    "\n",
    "Ahora bien, simulamos 10000 elecciones y vemos $\\mathbb{P}(X=18$ | $r=0.5)$:\n",
    "\n",
    "\n"
   ]
  },
  {
   "cell_type": "code",
   "execution_count": 12,
   "metadata": {
    "collapsed": false
   },
   "outputs": [
    {
     "name": "stdout",
     "output_type": "stream",
     "text": [
      "0.1164\n"
     ]
    }
   ],
   "source": [
    "#cada simulación consta de 33 personas 'votando' (entre 1 y 2); esto lo simulamos 100000 veces\n",
    "#Luego contamos en cuántas ocasiones se da que X=18\n",
    "X = np.zeros(10000) \n",
    "for i in range(len(X)):\n",
    "    sim = np.random.random_integers(1, 2,33) \n",
    "    X[i] = np.sum(sim[sim==1]) \n",
    "       \n",
    "p_x18 = X[X == 18]\n",
    "print len(p_x18)/10000. #Es necesario normalizar por el total de elecciones! "
   ]
  },
  {
   "cell_type": "markdown",
   "metadata": {
    "collapsed": true
   },
   "source": [
    "Como se puede ver, la probabilidad es pŕacticamente la misma que en el caso de la encuesta en twitter."
   ]
  },
  {
   "cell_type": "markdown",
   "metadata": {},
   "source": [
    "c) Recordemos el teorema de Bayes:\n",
    "\n",
    "\\begin{align}\n",
    " \\mathbb{P}(A_{i}|B) = \\frac{\\mathbb{P}(B|A_{i}) \\mathbb{P}(A_{i}) }{\\sum\\limits_{j} \\mathbb{P}(B|A_{j})\\mathbb{P}(A_{j}) } \\\\\n",
    "\\end{align}\n",
    "\n",
    "Ahora, debemos calcular usando este teorema $\\mathbb{P}(r$ | $X)$:\n",
    "\n",
    "\\begin{align}\n",
    "\\mathbb{P}(r\\text{ | } X) = \\frac{ \\overbrace{\\mathbb{P}(X \\text{ | } r)}^{\\mathbb{P} \\text{ en b})}  \\overbrace{\\mathbb{P} (r)}^{ =\\text{ 1}}  }{ \\underbrace{\\sum\\limits_{j} \\mathbb{P}(X\\text{ | } r) \\underbrace{\\mathbb{P}(r)}_{\\text{= 1}} }_{\\mathbb{P}(X)} }\n",
    "\\end{align}\n",
    "\n",
    "¿Por qué decimos que $\\mathbb{P}(r)$= 1? Como no tenemos información alguna de cómo distribuye r, lo más sensato es asumir que $r \\sim \\text{Uniforme }(0,1)$; es decir:\n",
    " \n",
    "\\begin{align}\n",
    "f_{r}({\\bf r}) = \n",
    "\\begin{cases}\n",
    "               1 \\text{            si } 0\\leq {\\bf r}\\leq 1\\\\\n",
    "               0 \\text{ si no}\n",
    "\\end{cases}\n",
    "\\end{align}\n",
    "\n",
    "Ahora bien, el denominador de $\\mathbb{P}(r\\text{ | }X)$ lo evaluamos como una integral ya que $r$ tiene distribución ${\\bf continua}$ con $X=18$ y $N=33$:\n",
    "\n",
    "\\begin{align}\n",
    "\\sum\\limits_{j} \\mathbb{P}(X=18|r) = \\int_{0}^{1}  \\mathbb{P}(X=18|r)\\text{d$r$}\n",
    "\\end{align}"
   ]
  },
  {
   "cell_type": "code",
   "execution_count": 13,
   "metadata": {
    "collapsed": false
   },
   "outputs": [
    {
     "name": "stdout",
     "output_type": "stream",
     "text": [
      "Integral usando quad\n",
      " Integral:0.029412  Error:1.265383e-09 \n",
      "\n",
      "Integral usando suma\n",
      " Linspace:0.029412  Random:0.029444 \n",
      "\n",
      "Integral usando regla de Simpson\n",
      " Linspace:0.029412  Random:0.029412\n",
      "\n"
     ]
    },
    {
     "data": {
      "image/png": "[encoded data removed]",
      "text/plain": [
       "<matplotlib.figure.Figure at 0x5013d10>"
      ]
     },
     "metadata": {},
     "output_type": "display_data"
    },
    {
     "name": "stdout",
     "output_type": "stream",
     "text": [
      "Integral de Linspace 1.000, máximo en 0.545\n",
      "Integral de Random 1.000, máximo en 0.545\n"
     ]
    }
   ],
   "source": [
    "#Calculamos de diferentes formas la integral\n",
    "\n",
    "##1) con quad usando la función definida al comienzo \n",
    "inte, error = quad(func_binomial, 0., 1.)\n",
    "print 'Integral usando quad\\n Integral:%f  Error:%e \\n' % (inte, error)\n",
    "\n",
    "#generamos 1000000 r entre 0 y 1 igualmente espaciados\n",
    "r = np.linspace(0,1,1000000)\n",
    "#Calculamos la probabilidad para cada uno de esos r\n",
    "binomial = binom(33,r).pmf(18) \n",
    "\n",
    "#Para asegurar que no hay diferencia entre elegir r igualmente o uniforme entre 0 y 1, ahora generamos 1000000 con la última\n",
    "r1 = np.sort(np.random.uniform(0,1,1000000))\n",
    "#Calculamos la probabilidad para cada r generado uniformemente\n",
    "binomial1 = binom(33,r1).pmf(18)\n",
    "\n",
    "#inicializo para generar plots\n",
    "fig, ax = plt.subplots()\n",
    "\n",
    "#Calculamos las integrales usando la regla de Simpson \n",
    "integral = simps(binomial,r)\n",
    "integral1 = simps(binomial1,r1) \n",
    "\n",
    "#Por diversión! Para mostrar que la integral se aproxima muy bien a la suma de todas las probabilidades normalizada por el número de r \n",
    "sum1 = np.sum(binomial)/len(binomial)\n",
    "sum2 = np.sum(binomial1)/len(binomial1)\n",
    "\n",
    "print 'Integral usando suma\\n Linspace:%f  Random:%f \\n' % (sum1, sum2)#\n",
    "\n",
    "print 'Integral usando regla de Simpson\\n Linspace:%f  Random:%f\\n' % (integral,integral1) \n",
    "\n",
    "#Ahora podemos escribir las distribuciones (pdf)\n",
    "distr = binomial/integral\n",
    "distr1 = binomial1/integral1\n",
    "\n",
    "#Vemos si está bien normalizada!\n",
    "integral_distr = simps(distr,r)\n",
    "integral_distr1 = simps(distr1,r1)\n",
    "\n",
    "#Graficamos!\n",
    "ax.plot(r1,distr1,'ro',r,distr,'blue')\n",
    "plt.show()\n",
    "\n",
    "print 'Integral de Linspace %.3f, máximo en %.3f'% (integral_distr, r[np.argmax(distr)] )\n",
    "print 'Integral de Random %.3f, máximo en %.3f'% (integral_distr1, r1[np.argmax(distr1)] )"
   ]
  },
  {
   "cell_type": "markdown",
   "metadata": {
    "collapsed": true
   },
   "source": [
    "Ya demostramos que la pdf (pmf) está bien normalizada (para ambos casos, son indestinguibles!). Para calcular la CDF, notemos que asignamos $\\mathbb{P}(-\\infty \\lt r \\lt 0) = 0 $, por lo cual será irrelevante en la gráfica. Ahora bien, usaremos la pdf ya definida, pero ahora 'guardaremos' cada valor de la integral en el intervalo que nos interesa ($0\\leq r \\leq 1$):   "
   ]
  },
  {
   "cell_type": "code",
   "execution_count": 14,
   "metadata": {
    "collapsed": false
   },
   "outputs": [],
   "source": [
    "r3 = np.sort(np.random.uniform(0,1,10000))  #por 'diversión' generamos otro arreglo ya que demostramos que la pdf es correcta\n",
    "binomial3 = binom(33,r3).pmf(18)\n",
    "integral3 = simps(binomial3,r3)\n",
    "\n",
    "pdf = binomial3/integral3 \n",
    "\n",
    "cumulative1 = []\n",
    "new_r = []\n",
    "ind = 1 \n",
    " \n",
    "#Calculamos de 2 maneras la CDF\n",
    "#1) con FOR en la pdf\n",
    "for i in range(len(pdf)):\n",
    "    j = i%10\n",
    "    if i > 0 and j==0: #Necesario para poder integrar: 'al menos dos puntos' \n",
    "       cumulative =  cumulative1[ind-1] + simps(pdf[j*10:i],r3[j*10:i])\n",
    "       cumulative1.append(cumulative)\n",
    "       new_r.append(r3[i]) \n",
    "       ind+=1 \n",
    "    else:\n",
    "       cumulative1.append(pdf[0])\n",
    "       new_r.append(r3[0])\n",
    "#2) Usamos la cumulativa usando el método del trapecio\n",
    "cumulative2 = cumtrapz(pdf,r3,initial=pdf[0])        "
   ]
  },
  {
   "cell_type": "code",
   "execution_count": 15,
   "metadata": {
    "collapsed": false
   },
   "outputs": [
    {
     "data": {
      "image/png": "[encoded data removed]",
      "text/plain": [
       "<matplotlib.figure.Figure at 0x5124910>"
      ]
     },
     "metadata": {},
     "output_type": "display_data"
    }
   ],
   "source": [
    "plt.plot(new_r,cumulative1,'bo',r3,cumulative2,'ro')\n",
    "plt.show()"
   ]
  },
  {
   "cell_type": "markdown",
   "metadata": {},
   "source": [
    "Nuevamente, vemos que son indestinguibles nuevamente! (los métodos alternativos funcionan). \n",
    "\n",
    "d) Solo debemos calcular $\\mathbb{P}(r \\text{ < 0.5 | }X)$ ya que $\\mathbb{P}(r \\text{ > 0.5 | }X)=$  $ 1 - \\mathbb{P}(r \\text{ < 0.5 | }X)$ . Para hacerlo, usaremos nuevamente la regla de Simpson al integrar:"
   ]
  },
  {
   "cell_type": "code",
   "execution_count": 16,
   "metadata": {
    "collapsed": false
   },
   "outputs": [
    {
     "name": "stdout",
     "output_type": "stream",
     "text": [
      "Probabilidad para r < 0.5: 0.304 \n",
      "Probabilidad para r > 0.5: 0.696\n"
     ]
    }
   ],
   "source": [
    "r4 = np.linspace(0,0.5,10000) #me aseguro del límite de la CDF con linspace, pero puedo usar random como ya vimos\n",
    "distr2 = binom(33,r4).pmf(18)/integral\n",
    "intdi2 = simps(distr2,r4) #calculamos la integral\n",
    "intmayor = 1 - intdi2\n",
    "print 'Probabilidad para r < 0.5: %.3f \\nProbabilidad para r > 0.5: %.3f'% (intdi2,intmayor)"
   ]
  },
  {
   "cell_type": "markdown",
   "metadata": {},
   "source": [
    "Lo cual es consistente con la respuesta encontrada en c), ya que el máximo de la distribución se encuentra en $r=0.545$ , es decir, que probamos que es más probable la probabilidad (valga la redundancia) que la gente escoja la opción de quedarse con su puerta! (dado $X=18$!)"
   ]
  }
 ],
 "metadata": {
  "celltoolbar": "Raw Cell Format",
  "kernelspec": {
   "display_name": "Python 2",
   "language": "python",
   "name": "python2"
  },
  "language_info": {
   "codemirror_mode": {
    "name": "ipython",
    "version": 2
   },
   "file_extension": ".py",
   "mimetype": "text/x-python",
   "name": "python",
   "nbconvert_exporter": "python",
   "pygments_lexer": "ipython2",
   "version": "2.7.5"
  }
 },
 "nbformat": 4,
 "nbformat_minor": 0
}
