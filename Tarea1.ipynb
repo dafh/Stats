{
 "cells": [
  {
   "cell_type": "code",
   "execution_count": 2,
   "metadata": {
    "collapsed": false
   },
   "outputs": [],
   "source": [
    "from scipy.stats import binom\n",
    "from scipy.integrate import simps, trapz\n",
    "from scipy.misc import comb\n",
    "import numpy as np\n",
    "import matplotlib.pyplot as plt\n",
    "%matplotlib inline"
   ]
  },
  {
   "cell_type": "markdown",
   "metadata": {},
   "source": [
    "a) $X\\sim \\text{Binomial}(N,r)$.\n",
    "\n",
    "\n",
    "b) Para calcular $\\mathbb{P}(X=18$ | $r=0.5)$, notemos que $X\\sim \\text{Binomial}(N,r)$, con pmf:\n",
    "\\begin{align}\n",
    "f_{X}(x) = \\binom{N}{x}r^{x}(1-r)^{N-x}\n",
    "\\end{align}\n",
    "\n",
    "donde $N$ es el número de encuestados, $r$ la probabilidad de escoger la respuesta 1) y $x$ la cantidad de personas escogiéndola. Ahora, seteando $N=33$, $X=18$ y $r=0.5$ obtenemos:\n",
    "\n",
    "\\begin{align}\n",
    " \\mathbb{P}(X=18 | r=0.5) &= f_{X}(x=18) \\\\\n",
    " &= \\binom{33}{18}0.5^{33} \\\\\n",
    " &= 0.12\n",
    "\\end{align}"
   ]
  },
  {
   "cell_type": "code",
   "execution_count": 3,
   "metadata": {
    "collapsed": false
   },
   "outputs": [
    {
     "name": "stdout",
     "output_type": "stream",
     "text": [
      "0.120741119608\n"
     ]
    }
   ],
   "source": [
    "prob = binom(33,0.5).pmf(18)\n",
    "print prob"
   ]
  },
  {
   "cell_type": "markdown",
   "metadata": {},
   "source": [
    "Es decir, hay un $12\\%$ de obtener exactamente 18 personas, de un total de 33, que hayan elegido la primera respuesta.\n",
    "\n",
    "Ahora bien, simulamos 1000 elecciones y vemos $\\mathbb{P}(X=18$ | $r=0.5)$:\n",
    "\n",
    "\n"
   ]
  },
  {
   "cell_type": "code",
   "execution_count": 4,
   "metadata": {
    "collapsed": false
   },
   "outputs": [
    {
     "name": "stdout",
     "output_type": "stream",
     "text": [
      "0.118\n"
     ]
    }
   ],
   "source": [
    "X = np.zeros(1000)\n",
    "for i in range(len(X)):\n",
    "    sim = np.random.random_integers(1, 2,33)\n",
    "    X[i] = np.sum(sim[sim==1])\n",
    "       \n",
    "p_x18 = X[X == 18]\n",
    "print len(p_x18)/1000."
   ]
  },
  {
   "cell_type": "markdown",
   "metadata": {
    "collapsed": true
   },
   "source": [
    "Como se puede ver, la probabilidad es pŕacticamente la misma que en el caso de la encuesta en twitter."
   ]
  },
  {
   "cell_type": "markdown",
   "metadata": {},
   "source": [
    "c) Recordemos el teorema de Bayes:\n",
    "\n",
    "\\begin{align}\n",
    " \\mathbb{P}(A_{i}|B) = \\frac{\\mathbb{P}(B|A_{i}) \\mathbb{P}(A_{i}) }{\\sum\\limits_{j} \\mathbb{P}(B|A_{j})\\mathbb{P}(A_{j}) } \\\\\n",
    "\\end{align}\n",
    "\n",
    "Ahora, debemos calcular usando este teorema $\\mathbb{P}(r$ | $X)$:\n",
    "\n",
    "\\begin{align}\n",
    "\\mathbb{P}(r\\text{ | } X) = \\frac{ \\overbrace{\\mathbb{P}(X \\text{ | } r)}^{\\mathbb{P} \\text{ en b})}  \\overbrace{\\mathbb{P} (r)}^{ =\\text{ 1}}  }{ \\underbrace{\\sum\\limits_{j} \\mathbb{P}(X\\text{ | } r) \\underbrace{\\mathbb{P}(r)}_{\\text{= 1}} }_{\\mathbb{P}(X)} }\n",
    "\\end{align}\n",
    "\n",
    "¿Por qué decimos que $\\mathbb{P}(r)$= 1? Como no tenemos información alguna de cómo distribuye r, lo más sensato es asumir que $r \\sim \\text{Uniforme }(0,1)$; es decir:\n",
    " \n",
    "\\begin{align}\n",
    "f_{r}({\\bf r}) = \n",
    "\\begin{cases}\n",
    "               1 \\text{            si } 0\\leq {\\bf r}\\leq 1\\\\\n",
    "               0 \\text{ si no}\n",
    "\\end{cases}\n",
    "\\end{align}\n",
    "\n",
    "Ahora bien, el denominador de $\\mathbb{P}(r\\text{ | }X)$ lo evaluamos pensándolo como una integral con $X=18$ y $N=33$:\n",
    "\n",
    "\\begin{align}\n",
    "\\sum\\limits_{j} \\mathbb{P}(X=18|r) \\approx \\int_{0}^{1}  \\mathbb{P}(X=18|r)\\text{d$r$}\n",
    "\\end{align}"
   ]
  },
  {
   "cell_type": "code",
   "execution_count": 5,
   "metadata": {
    "collapsed": false
   },
   "outputs": [
    {
     "name": "stdout",
     "output_type": "stream",
     "text": [
      "0.0294117647059 0.0294117647059\n"
     ]
    },
    {
     "data": {
      "image/png": "[encoded data removed]",
      "text/plain": [
       "<matplotlib.figure.Figure at 0x3629450>"
      ]
     },
     "metadata": {},
     "output_type": "display_data"
    },
    {
     "name": "stdout",
     "output_type": "stream",
     "text": [
      "Integral de f 1.000, máximo en 0.545\n",
      "Integral de f1 1.000, máximo en 0.545\n"
     ]
    }
   ],
   "source": [
    "x = np.linspace(0,1,1000000)\n",
    "binomial = binom(33,x).pmf(18) \n",
    "\n",
    "x1 = np.sort(np.random.uniform(0,1,1000000))\n",
    "binomial1 = binom(33,x1).pmf(18)\n",
    "\n",
    "fig, ax = plt.subplots()\n",
    "\n",
    "integral = simps(binomial,x)\n",
    "integral1 = simps(binomial1,x1) \n",
    "\n",
    "print integral,integral1 #Mostrar que da lo mismo cómo elegía 'x' ya que para n grande son idénticos en la práctica\n",
    "\n",
    "distr = binomial/integral\n",
    "distr1 = binomial1/integral1\n",
    "\n",
    "integral_distr = simps(distr,x)\n",
    "integral_distr1 = simps(distr1,x1)\n",
    "\n",
    "ax.plot(x1,distr1,'ro',x,distr,'blue')\n",
    "plt.show()\n",
    "\n",
    "print 'Integral de f %.3f, máximo en %.3f'% (integral_distr, x[np.argmax(distr)] )\n",
    "print 'Integral de f1 %.3f, máximo en %.3f'% (integral_distr1, x1[np.argmax(distr1)] )"
   ]
  },
  {
   "cell_type": "markdown",
   "metadata": {
    "collapsed": true
   },
   "source": [
    "Ya demostramos que la pdf (pmf) está bien normalizada. Para calcular la CDF, notemos que asignamos $\\mathbb{P}(-\\infty \\lt r \\lt 0) = 0 $, por lo cual será irrelevante en la gráfica. Ahora bien, usaremos la pdf ya definida, pero ahora 'guardaremos' cada valor de la integral en el intervalo que nos interesa ($0\\leq r \\leq 1$):   "
   ]
  },
  {
   "cell_type": "code",
   "execution_count": 6,
   "metadata": {
    "collapsed": false
   },
   "outputs": [],
   "source": [
    "x3 = np.sort(np.random.uniform(0,1,1000))  #por 'diversión'\n",
    "cumulative = np.zeros(1000)\n",
    "for i in range(len(cumulative)):\n",
    "    if i > 0: #Necesario para poder integrar: 'al menos dos puntos' \n",
    "       cumulative[i] = simps(binom(33,x3[0:i]).pmf(18),x3[0:i]) \n",
    "    else:\n",
    "       cumulative[i] = binom(33,x3[i]).pmf(18)"
   ]
  },
  {
   "cell_type": "code",
   "execution_count": 7,
   "metadata": {
    "collapsed": false
   },
   "outputs": [
    {
     "data": {
      "image/png": "[encoded data removed]",
      "text/plain": [
       "<matplotlib.figure.Figure at 0x361dc10>"
      ]
     },
     "metadata": {},
     "output_type": "display_data"
    }
   ],
   "source": [
    "plt.plot(x3,cumulative)\n",
    "plt.show()"
   ]
  },
  {
   "cell_type": "markdown",
   "metadata": {},
   "source": [
    "d) Solo debemos calcular $\\mathbb{P}(r \\text{ < 0.5 | }X)$ ya que $\\mathbb{P}(r \\text{ > 0.5 | }X)=$  $ 1 - \\mathbb{P}(r \\text{ < 0.5 | }X) - \\mathbb{P}(X=18 \\text{ | } r=0.5)$ . Para hacerlo, necesitamos el valor de la CDF en $r=0.5$ | $X=18$, y luego restar el valor obtenido en b):"
   ]
  },
  {
   "cell_type": "code",
   "execution_count": 10,
   "metadata": {
    "collapsed": false
   },
   "outputs": [
    {
     "name": "stdout",
     "output_type": "stream",
     "text": [
      "Probabilidad para r < 0.5: 0.183 \n",
      "Probabilidad para r > 0.5: 0.696\n"
     ]
    }
   ],
   "source": [
    "x4 = np.linspace(0,0.5,10000) #me aseguro del límite de la CDF con linspace\n",
    "distr2 = binom(33,x4).pmf(18)/integral\n",
    "intdi2 = simps(distr2,x4)\n",
    "intminor = intdi2 - prob\n",
    "intmayor = 1 - (intminor + prob)\n",
    "print 'Probabilidad para r < 0.5: %.3f \\nProbabilidad para r > 0.5: %.3f'% (intminor,intmayor)"
   ]
  },
  {
   "cell_type": "markdown",
   "metadata": {},
   "source": [
    "Lo cual es consistente con la respuesta encontrada en c), ya que el máximo de la distribución se encuentra en $r=0.545$ , es decir, que probamos que es más probable que la gente escoja la opción de quedarse con su puerta!"
   ]
  }
 ],
 "metadata": {
  "celltoolbar": "Raw Cell Format",
  "kernelspec": {
   "display_name": "Python 2",
   "language": "python",
   "name": "python2"
  },
  "language_info": {
   "codemirror_mode": {
    "name": "ipython",
    "version": 2
   },
   "file_extension": ".py",
   "mimetype": "text/x-python",
   "name": "python",
   "nbconvert_exporter": "python",
   "pygments_lexer": "ipython2",
   "version": "2.7.5"
  }
 },
 "nbformat": 4,
 "nbformat_minor": 0
}
