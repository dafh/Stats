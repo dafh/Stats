{
 "cells": [
  {
   "cell_type": "markdown",
   "metadata": {},
   "source": [
    "\\begin{align}\n",
    " &x_i=\\begin{pmatrix} x_{1=k} \\\\ x_{2=k} \\end{pmatrix} \\quad \\mu_{k} =\\begin{pmatrix} \\mu_{x_1=k} \\\\ \\mu_{x_2=k}\\end{pmatrix} \n",
    " \\quad  \\Sigma = \\frac{\\sum\\limits_{i=1}^{k} (n_{i} - 1) \\Sigma_{i} }{N-k} \\quad \\Sigma_{i} = \\frac{(x_{i} -\\mu_{i})(x_{i} - \\mu_{i})^T}{n_{i} -1 }    \\\\\\\\\n",
    " &\\text{LDA boundary decision:}\\\\\n",
    " &\\underbrace{X^T}_{\\begin{pmatrix} X_{1} \\\\ X_{2} \\end{pmatrix}^{T}} \\underbrace{\\Sigma^{-1} (\\mu_{1} - \\mu_{2})}_{\\vec{\\alpha} = \\begin{pmatrix} \\alpha_{1} \\\\ \\alpha_{2} \\end{pmatrix}  } = \\underbrace{-\\log{\\underbrace{\\frac{\\Pi_1}{\\Pi_2}}_{\\text{priors}}} + \\frac{1}{2} (\\mu_1 + \\mu_2)^T \\Sigma^{-1} (\\mu_1 - \\mu_2)}_{\\beta} \\\\\n",
    " &\\rightarrow X_2 = -X_1\\cdot\\frac{\\alpha_1}{\\alpha_2} + \\frac{\\beta}{\\alpha_2}\\\\\\\\\n",
    " &\\text{QDA boundary decision:}\\\\\n",
    " & \\underbrace{-\\frac{1}{2}\\log{\\frac{|\\Sigma_1|}{|\\Sigma_2|}} + \\log{\\frac{\\Pi_1}{\\Pi_2}}  -\\frac{1}{2}(\\mu_{1}^T\\Sigma_{1}^{-1}\\mu_{1} - \\mu_{2}^{T}\\Sigma_{2}^{-1}\\mu_{2}  ) }_{F} \n",
    " +[X^T (\\underbrace{-\\frac{1}{2} \\left[ \\Sigma_{1}^{-1} - \\Sigma_{2}^{-1} \\right ]}_{\\begin{pmatrix} A & \\frac{C}{2} \\\\ \\frac{C}{2} & B \\end{pmatrix} }) X] + X^{T} (\\underbrace{\\Sigma_{1}^{-1}\\mu_{1} - \\Sigma_{2}^{-1}\\mu_{2}}_{\\begin{pmatrix} D \\\\ E \\end{pmatrix}}) = 0 \\\\\n",
    " &\\rightarrow AX_{1}^2 + BX_{2}^2 + CX_{1}X_{2} + DX_{1} + EX_{2} + F = 0\n",
    "\\end{align}"
   ]
  }
 ],
 "metadata": {
  "kernelspec": {
   "display_name": "Python 2",
   "language": "python",
   "name": "python2"
  },
  "language_info": {
   "codemirror_mode": {
    "name": "ipython",
    "version": 2
   },
   "file_extension": ".py",
   "mimetype": "text/x-python",
   "name": "python",
   "nbconvert_exporter": "python",
   "pygments_lexer": "ipython2",
   "version": "2.7.5"
  }
 },
 "nbformat": 4,
 "nbformat_minor": 0
}
