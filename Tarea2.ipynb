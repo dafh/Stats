{
 "cells": [
  {
   "cell_type": "code",
   "execution_count": 3,
   "metadata": {
    "collapsed": true
   },
   "outputs": [],
   "source": [
    "import numpy as np\n",
    "import matplotlib.pyplot as plt\n",
    "from scipy import stats, linalg\n",
    "import math\n",
    "%matplotlib inline\n"
   ]
  },
  {
   "cell_type": "markdown",
   "metadata": {},
   "source": [
    "${\\bf P1)}$\n",
    "\n",
    "${\\bf a)}$ Adjunto dibujo para hacer más clara la explicación: Queremos obtener $v^{'} = \\frac{{\\Delta d}^{'}}{{\\Delta t}^{'}}$, la velocidad ${\\bf \\text{transversal aparente}}$ vista por el observador en $O$; $t_{0}$ representa el momento en que $un$ $fotón$ sale desde el quásar y es eyectado el material del mismo con velocidad $v$ y dirección $\\theta$, ${t_{0}}^{'}$ el momento en que el observador detecta el fotón (desde la Tierra), $t_2$ el momento en que un fotón es eyectado desde el material que escapa y ${t_{2}}^{'}$ cuando es detectado en la Tierra. \n",
    "\n",
    "Para calcular ${\\Delta d}^{'}$, veamos que se relaciona simplemente con el seno del ángulo de eyección: ${\\Delta d}^{'} = v \\sin{\\theta}(t_{2}-t_{0})$ (fácil!). Ahora ${\\Delta t}^{'}$ es una medida de la diferencia en que llega el primer fotón con respecto al segundo, es decir, ${\\Delta t}^{'} = {t_{2}}^{'} - {t_{0}}^{'}$. Ahora, ¿cómo relacionamos esto con $(t_{2}-t{0})$ (en razón de eliminar este factor que desconocemos)?. Veamos que desde el punto de vista del observador, las distancias que recorren ambos fotones es la misma (los quásar están muy lejanos y solo podemos medir velocidades $transversales$), por tanto, del diagrama:  \n",
    "\n",
    "\\begin{align}\n",
    " \\bar{QO} &= \\bar{QP} + \\bar{DO} \\\\ \n",
    " \\rightarrow c({t_0}^{'} - t_0) &= c({t_2}^{'} - t_2) + v(t_2 - t_0)cos(\\theta)\\\\\n",
    " \\rightarrow {\\Delta t}^{'} &= {t_2}^{'} - {t_0}^{'} = (1-\\underbrace{\\frac{v}{c}}_{\\beta}\\cos{\\theta})(t_2 - t_0)\\\\\n",
    " \\rightarrow v^{'} &= \\frac{ v \\sin{\\theta}(t_{2}-t_{0})}{(1 - \\beta\\cos{\\theta})(t_2-t_0)}\\\\\n",
    " v^{'} &= \\frac{v\\sin{\\theta}}{1-\\beta\\cos{\\theta}}\n",
    "\\end{align}\n",
    "\n",
    "\n",
    "\n",
    "${\\bf b)}$ Por fin la estadística! Recordemos que en ayudantía se nos mostró que para distribuir uniformemente en la superficie de una esfera, no podemos simplemente decir que los ángulos $\\theta,\\phi$ distribuyan como una uniforme, sino que hay considerar que el elemento de área lo sea, es decir, el ángulo sólido (ojo! $\\theta$ recorre de 0 a $\\frac{\\pi}{2}$):\n",
    "\n",
    "\\begin{align}\n",
    " d\\Omega &= \\sin\\theta d\\theta d\\phi \\\\\n",
    " \\int_{0}^{2\\pi}\\int_{0}^{\\frac{\\pi}{2}} p_{\\Omega} d\\Omega &= 1 \\\\\n",
    "  \\rightarrow p_{\\Omega}&= \\frac{1}{2\\pi}\\\\\n",
    "  p(\\theta) &= \\int_{0}^{2\\pi} \\frac{\\sin\\theta}{2\\pi} d\\phi\\\\\n",
    "  \\rightarrow p(\\theta) &= \\sin{\\theta}\n",
    "\\end{align}\n",
    "\n",
    "Con esto podemos hacer un cambio de variable para conocer la probabilidad de $\\beta^{'}>1$ (dado $\\beta = 1$):\n",
    "\n",
    "\\begin{align}\n",
    " \\beta^{'} &= \\frac{\\sin{\\theta}}{1 - \\cos{\\theta}} (*)\\\\\n",
    " \\rightarrow p(\\beta^{'}) d\\beta^{'} &= p(\\theta) d\\theta \\\\ \n",
    " \\rightarrow p(\\beta^{'}) &= p(\\theta[\\beta^{'}]) \\left | \\frac{d\\theta}{d\\beta^{'}} \\right | (**) \\\\\n",
    "\\end{align}\n",
    "\n",
    "Veamos ahora el término de la derivada:\n",
    "\n",
    "\\begin{align}\n",
    " \\left | \\frac{d\\theta}{d\\beta^{'}} \\right | &=  \\left | \\frac{d\\beta^{'}}{d\\theta} \\right |^{-1} \\\\\n",
    " &= \\left | \\frac{\\cos\\theta}{1-\\cos{\\theta}} - \\frac{\\sin\\theta^2}{(1-\\cos\\theta)^{2}}   \\right |^{-1} \\\\\n",
    " &= \\left | \\frac{-1}{(1-\\cos\\theta)} \\right |^{-1} \\\\\n",
    " \\rightarrow \\left | \\frac{d\\theta}{d\\beta^{'}} \\right | &= 1- \\cos\\theta \n",
    "\\end{align}\n",
    "\n",
    "Sabemos que $p(\\theta) = \\sin\\theta$, pero necesitamos expresar $\\sin\\theta$ y $\\cos\\theta$ en términos de $\\beta^{-1}$:\n",
    "\n",
    "\\begin{align}\n",
    " \\sin\\theta^2 &= (1 - \\cos\\theta)(1 + \\cos\\theta) \\\\\n",
    " \\sin\\theta^2 &= (1-\\cos\\theta)^2  {\\beta^{'}}^{2}  (*)\\\\\n",
    " \\rightarrow \\cos\\theta &= \\frac{\\beta^2 - 1}{1+{\\beta^{'}}^2}\\\\\n",
    " \\rightarrow \\sin\\theta &= \\frac{2\\beta^{'}}{1+{\\beta^{'}}^2} (*)\\\\\n",
    "\\end{align}\n",
    "\n",
    "Juntando todo lo obtenido y reemplazando en $(**)$, finalmente obtenemos la probabilidad de observar velocidades superlumínicas (si se quiere, se pueden reemplazar valores en la CDF $(***)$):\n",
    "\n",
    "\\begin{align}\n",
    " p(\\beta^{'}) &= \\sin\\theta (1-\\cos\\theta) \\\\\n",
    "  &= \\frac{4\\beta^{'}}{ (1+{\\beta^{'}}^2)^2} \\\\\n",
    " \\rightarrow \\mathbb{P}( \\beta^{'} < x) &= \\int_{-\\infty}^{x} p(\\beta^{'})d\\beta^{'}\\\\\n",
    " &= 2 \\int_{-\\infty}^{1+x^2} \\frac{du}{u^2} \\\\\n",
    " \\rightarrow \\mathbb{P} (\\beta^{'}> x)&= \\frac{2}{1 + x^{2}}  (***)\n",
    "\\end{align}"
   ]
  },
  {
   "cell_type": "markdown",
   "metadata": {
    "collapsed": true
   },
   "source": [
    "${\\bf P2)}$\n",
    "\n",
    "${\\bf a)}$ Si $X\\sim$ $F$ continua y estrictamente creciente, y sabemos que $Y=F(X)$, podemos decir que las pdf ($f_{X}$ y $f_{Y}$) de ambas cumplen la siguiente relación:\n",
    "\n",
    "\\begin{align}\n",
    "f_{X}(x) dx &= f_{Y}(y)dy \\\\\n",
    "f_{Y}(y) &= f_{X}(x) \\left | \\frac{dx}{dy} \\right |\n",
    "\\end{align}\n",
    "\n",
    "Si decimos que $y = F(x) \\rightarrow  dy = \\frac{d F_{X}(x)}{dx} dx$, pero, por definición $\\frac{F_{X}(x)}{dx} = f_{X}(x)$, por ende:\n",
    "\n",
    "\\begin{align}\n",
    "\\left | \\frac{dx}{dy} \\right | = f_{X}^{-1}\n",
    "\\end{align}\n",
    "\n",
    "Si esto lo reemplazamos en nuestra ecuación de $f_{Y}$ obtenemos:\n",
    "\n",
    "\\begin{align}\n",
    "f_{Y} &= 1 \\\\\n",
    "\\rightarrow F_{Y} &= \\text{Uniform(0,1)} \n",
    "\\end{align}\n",
    "\n",
    "Ya que sabemos que la pdf de Uniform(a,b) = $\\frac{1}{b-a}$ con CDF $F_{Y}(y< Y) = \\frac{Y-a}{b-a}$ (en el intervalo (a,b)), con a=0, b=1.\n",
    "\n",
    "${\\bf b)}$ Este es el caso inverso a la pregunta a); sabemos que $U\\sim \\text{Uniform(0,1)}$ y $X=F^{-1}(U)$, por ende:\n",
    "\n",
    "\\begin{align}\n",
    "\\mathbb{P}(u < U) &= U \\\\\n",
    "\\mathbb{P}(\\underbrace{F^{-1}(u) < F^{-1}(U)}_{\\text{monotona creciente}}) &= F(X)\n",
    "\\end{align}\n",
    "\n",
    "Usamos que $F (F^{-1})$ es monótona creciente para mantener la desigualdad y usamos que $x = F^{-1}(u)$;\n",
    "\n",
    "\\begin{align}\n",
    " \\mathbb{P}(x<X) &= F(X)\\\\\n",
    " \\rightarrow X &\\sim F \n",
    "\\end{align}\n",
    "\n",
    "La consecuencia ${\\bf directa}$ que tiene esto es que para generar números que sigan una distribución dada ($F$), sólo necesitamos generar números de una distribución uniforme y evaluarlos en su inversa $(F^{-1})$.\n",
    "\n",
    "Para mostrar que este algoritmo funciona, tomemos que X$\\sim$ Normal$(x,\\mu =0.,\\sigma = 1.)$, con $x_{0}$:\n",
    "\n",
    "\\begin{align}\n",
    " f_{X}(x) = \\frac{1}{\\sqrt{2\\pi}\\sigma}\\exp \\left ( \\frac{(x-\\mu)^2}{2\\sigma^2} \\right ) \n",
    "\\end{align}\n",
    "\n",
    "Sabemos que no tenemos CDF analítica de la normal (estándar en nuestro caso), pero en Python están implementadas las funciones $cdf$ y $ppf$ del paquete $scipy.stats.norm$ las cuales nos entregan la CDF y su inversa respectivamente. Teniendo $F^{-1}$, generamos 100000 números a partir de la distribución uniforme:"
   ]
  },
  {
   "cell_type": "code",
   "execution_count": 4,
   "metadata": {
    "collapsed": false
   },
   "outputs": [
    {
     "data": {
      "image/png": "[encoded data removed]",
      "text/plain": [
       "<matplotlib.figure.Figure at 0x4aecdd0>"
      ]
     },
     "metadata": {},
     "output_type": "display_data"
    }
   ],
   "source": [
    "#generando..\n",
    "x = np.random.uniform(0,1,100000)\n",
    "norm_sample = stats.norm.ppf(x) #queremos normal standard\n",
    "norm_max = np.max(norm_sample)\n",
    "#Generamos un histograma!\n",
    "plt.hist(norm_sample, bins = 100, color = 'red', normed=True, histtype='stepfilled', alpha= 0.6)\n",
    "y = np.arange(-norm_max,norm_max,0.001)\n",
    "#Evaluamos nuestro arreglo y en la pdf de la normal\n",
    "pdf_normal = stats.norm.pdf(y)\n",
    "plt.plot(y,pdf_normal)\n",
    "plt.show()"
   ]
  },
  {
   "cell_type": "markdown",
   "metadata": {},
   "source": [
    "${\\bf c)}$ Notemos que $S \\sim N(0,1)$ (estándar multinormal):\n",
    "\n",
    "\\begin{align}\n",
    " f= f_{\\vec{S}}(\\vec{s}) = \\frac{1}{(2\\pi)^{\\frac{k}{2}}} \\exp \\left (  -\\frac{1}{2}\\vec{s}^{T}\\vec{s} \\right )\n",
    "\\end{align}\n",
    "\n",
    "\n",
    "Notemos que $\\vec{X} = \\vec{\\mu} + {\\bf{L}}\\vec{S} \\rightarrow \\vec{S} = {\\bf L^{-1}(\\vec{X}-\\vec{\\mu})}$ . Hagamos el cambio de variable $\\vec{S} \\rightarrow \\vec{X}$ pensando en obtener la pdf de $\\vec{X}$:\n",
    "\n",
    "\\begin{align}\n",
    " f_{\\vec{X}}(\\vec{x}) d\\vec{x} &= f_{\\vec{S}}(\\vec{s}) d\\vec{s} \\\\\n",
    "f_{\\vec{X}}(\\vec{x}) &= f_{\\vec{S}}({\\bf L^{-1}}(\\vec{x}-\\vec{\\mu})) \\underbrace{\\left | \\frac{\\partial\\vec{s}}{\\partial\\vec{x}} \\right |}_{\\text{Jacobiano}}  \n",
    "\\end{align}\n",
    "\n",
    "Encarguémonos del Jacobiano primero; Sea $\\vec{x} = (x_{1},x_{2}..,x_{k})$ y $\\vec{s} = (s_{1},s_{2}..,s_{k})$:\n",
    "\n",
    "\\begin{align}\n",
    " \\frac{\\partial s_{i}}{\\partial x_{j}} &= {\\bf L^{-1}_{ij}}\\\\\n",
    " \\text{det}\\left ( \\frac{\\partial \\vec{s}}{\\partial \\vec{x}} \\right) &= \\text{det} ({\\bf L^{-1}}) = \\left | L^{-1}\\right | \n",
    "\\end{align}\n",
    "\n",
    "Del enunciado, ${\\bf L L^{T}} = \\Sigma$, pero la descomposición Cholesky nos dice que $\\text{det}({\\bf L^{T}}) = \\text{det}({\\bf L}) = \\text{det}(\\Sigma)^{\\frac{1}{2}}$, y usando explícitamente la pdf de $\\vec{S}$: \n",
    "\n",
    "\\begin{align}\n",
    " f_{\\vec{X}}(\\vec{x}) &= f_{\\vec{S}}({\\bf L^{-1}}(\\vec{x}-\\vec{\\mu})) | \\Sigma^{\\frac{1}{2}} |^{-1} \\\\\n",
    " &= \\frac{1}{(2\\pi)^{\\frac{k}{2}} | \\Sigma^{\\frac{1}{2}} |} \\exp \\left [ - \\frac{1}{2}({\\bf L^{-1}}(\\vec{x} - \\vec{\\mu}))^{T}({\\bf L^{-1}}(\\vec{x} - \\vec{\\mu}))    \\right ]\\\\\n",
    " &= \\frac{1}{(2\\pi)^{\\frac{k}{2}} | \\Sigma^{\\frac{1}{2}} |} \\exp \\left [ -\\frac{1}{2} (\\vec{x} - \\vec{\\mu})^{T}\\underbrace{{\\bf {(L^{-1}})^{T}}{\\bf L^{-1}}}_{\\Sigma^{-1}}(\\vec{x} - \\vec{\\mu})    \\right ]\n",
    "\\end{align}\n",
    "\n",
    "lo cual muestra, que $\\vec{X} \\sim N(\\mu,\\Sigma)$."
   ]
  },
  {
   "cell_type": "markdown",
   "metadata": {},
   "source": [
    "${\\bf d)}$ Tenemos que crear samples a partir de $\\vec{X} = {\\bf L}\\vec{S}$. Primero calculemos la matriz de covariancia:"
   ]
  },
  {
   "cell_type": "code",
   "execution_count": 79,
   "metadata": {
    "collapsed": false
   },
   "outputs": [],
   "source": [
    "# creamos el arreglo x\n",
    "x= np.array(np.arange(-5.,5,0.1))\n",
    "aux_covar = np.zeros([100,100])\n",
    "for i in range(len(x)):\n",
    "    aux_covar[i:,i] = x[i:] - x[i] #Esto es un método efectivo, aunque se puede mejorar! ya que tiene 2 simetrías la matriz\n",
    "#No era necesario ya que era el módulo cuadrado!, pero bueno, es lo mismo y es rápido\n",
    "covar = np.exp(-0.5*(aux_covar-aux_covar.T)**2.)\n",
    "#print (covar.transpose() == covar).all() --> Es simétrica\n",
    "\n",
    "#Encontramos los autovalores y autovectores de covar!\n",
    "eigenvalues, eigenvectors = linalg.eigh(covar) \n",
    "diagonal= np.identity(100)\n",
    "min_eigen = np.min(eigenvalues)\n",
    "#No debería hacer esto si fueran muchas matrices y de muchas dimensiones--> n^2 el gasto\n",
    "epsilon = abs(min_eigen) + 1e-15\n",
    "new_cov = covar + diagonal*epsilon # + cosas\n",
    "new_eigenvalues, new_eigenvectors = linalg.eigh(new_cov)\n",
    "#print new_eigenvalues #POSITIVOS!!\n",
    "L = linalg.cholesky(new_cov, lower=True)\n",
    "#print np.dot(L,L.T), new_cov SON IGUALES!!\n",
    "\n",
    "#Creamos el arreglo multivariado S a partir de la función de python! OJO!!! ESTO NO ES NECESARIO ya que puedo crearlos yo\n",
    "S = np.random.multivariate_normal(np.zeros(100),np.identity(100), size=2)\n",
    "H = np.random.multivariate_normal(np.zeros(100),new_cov, size=2)"
   ]
  },
  {
   "cell_type": "markdown",
   "metadata": {},
   "source": [
    "Tema por explicar: Nosotros encontramos la descomposición Cholesky para ${\\bf LL^{T}} = B = A + \\epsilon I$, (con B=new_cov, A=cov, I la identidad de 100 dimensiones y $\\epsilon<<1$, las variables en el código), pero en realidad nos gustaría tener ${\\bf W W^{T}} = A$, en particular, ${\\bf W}$. Proseguiremos como si ${\\bf L\\approx W}$, aunque sabemos que esto no es así y que $\\vec{X}$ necesita una corrección! (pequeña pero necesaria)."
   ]
  },
  {
   "cell_type": "code",
   "execution_count": 80,
   "metadata": {
    "collapsed": false
   },
   "outputs": [
    {
     "data": {
      "image/png": "[encoded data removed]",
      "text/plain": [
       "<matplotlib.figure.Figure at 0x7113550>"
      ]
     },
     "metadata": {},
     "output_type": "display_data"
    }
   ],
   "source": [
    "#Pensemos un poco en el álgebra tras esto; $B$ es una matriz (por construcción) positiva definida, por lo tanto, su #${\\bf \\text{descomposición Cholesky es única}}$. También recordemos que la ${\\bf \\text{descomposición SVD}}$ es de la #forma $B = QD^{\\frac{1}{2}}(QD^{\\frac{1}{2}})^{T}$ para ${\\bf \\text{matrices positivas definidas}}$, con $Q$ la matriz #de autovectores normalizados de $B$ y $D$ matriz diagonal con sus autovalores, por tanto, diremos que ${\\bf L} = #QD^{\\frac{1}{2}}$. Ahora bien, si esta matriz ${\\bf W}$ existe, pensaremos en ella como ${\\bf W} = {\\bf L + #\\frac{\\epsilon}{2}Q}$ usando que para cada fila $i$ tenemos: ${D_{i}}^{\\frac{1}{2}} = \\sqrt{\\lambda_{i} + \\epsilon} #\\approx \\lambda_{i} - \\frac{\\epsilon}{2}$:\n",
    "\n",
    "#\\begin{align}\n",
    "# \\vec{X} &= {\\bf W}\\vec{S} \\\\\n",
    "# \\rightarrow \\vec{X} &=({\\bf L - \\epsilon Q })\\vec{S}\\\\\n",
    "#\\end{align}\n",
    "\n",
    "#con una pequeña corrección en los samples si hubiésemos usado ${\\bf L}.$ (No sé si tiene demasiado sentido definir así #${\\bf W}$; creo que el valor más seguro sería multiplicarlo por una matriz de transformación).\n",
    "\n",
    "for i in range(2):\n",
    "    X = np.dot(L,S[i])\n",
    "    plt.hist(H[i], bins = 40, normed=True, histtype='stepfilled', alpha= 0.3)\n",
    "    plt.hist(X, bins = 40, normed=True, histtype='stepfilled', alpha= 0.9)\n",
    "#plt.show()\n",
    "\n",
    "\n",
    "#Tenemos todos los elementos para calcular X:\n",
    "#B = new_cov, S ya lo calculamos y L^{T}^{-1}\n",
    "#Q, D, U = linalg.svd(new_cov)\n",
    "#S[::-1] invert --> parecidos a new_eigenvalues!!\n",
    "#Q.T == U OK!\n",
    "#D_h = np.identity(100)*np.power(D,0.5)\n",
    "#Veamos si nos da lo que queremos L = U*Dh\n",
    "#print Q, L.T\n"
   ]
  },
  {
   "cell_type": "markdown",
   "metadata": {},
   "source": [
    "${\\bf P3)}$\n",
    "\n",
    "${\\bf a)}$ La pdf de la $\\chi^{2}$ viene dada por:\n",
    "\n",
    "\\begin{align}\n",
    " f_{\\nu}(x) = \\frac{1}{\\Gamma(\\frac{\\nu}{2})2^{\\frac{\\nu}{2}}}x^{\\frac{\\nu}{2}-1}e^{ -\\frac{x}{2}}\n",
    "\\end{align}\n",
    "\n",
    "Recordando la función generadora de la v.a $X$ que distribuye como $\\chi^{2}$; $M(t) = \\mathbb{E}[e^{Xt}]$ y por definición $\\Gamma(y) = \\int_{0}^{\\infty} x^{y-1}e^{-x}dx$\n",
    "\n",
    "\\begin{align}\n",
    " M(t) &= \\int_{0}^{\\infty} e^{xt} \\frac{1}{\\Gamma(\\frac{\\nu}{2})2^{\\frac{\\nu}{2}}}x^{\\frac{\\nu}{2}-1}e^{-\\frac{x}{2}}dx \\\\\n",
    " &=\\frac{1}{\\Gamma(\\frac{\\nu}{2})2^{\\frac{\\nu}{2}}} \\int_{0}^{\\infty} \\underbrace{ x^{\\frac{\\nu}{2}-1} e^{-\\frac{x}{2}(1-2t)} dx}_{y = \\frac{x}{2}(1-2t)}\\\\\n",
    " &= \\frac{1}{\\Gamma(\\frac{\\nu}{2})2^{\\frac{\\nu}{2}}} \\int_{0}^{\\infty} \\underbrace{ \\frac{2^{\\frac{\\nu}{2}-1}}{(1-2t)^{\\frac{\\nu}{2} -1}}}_{x^{\\frac{\\nu}{2}-1}} y^{\\frac{\\nu}{2}-1} e^{-y} \\underbrace{\\frac{2}{(1-2t)} dy}_{dx}\\\\\n",
    "  &= \\frac{(1-2t)^{-\\frac{\\nu}{2}}}{\\Gamma(\\frac{\\nu}{2}) } \\underbrace { \\int_{0}^{\\infty} y^{\\frac{\\nu}{2}-1}e^{-y}dy}_{\\Gamma(\\frac{\\nu}{2})} \\\\\n",
    "  \\rightarrow M(t) &= (1-2t)^{-\\frac{\\nu}{2}} \n",
    "\\end{align}\n",
    "\n",
    "${\\bf b)}$ Para demostrar que si $Y_{1}$ es una $\\chi^{2}$ con $\\nu_{1}$ grados de libertad e $Y_{2}$ una $\\chi^{2}$ con $\\nu_2$,  $Y_{1} + Y_{2}$ es una $\\chi^2$ con $\\nu_{1}+\\nu_{2}$ usaremos la función generadora obtenida en ${\\bf a)}$ ya que por independencia de $Y_{1}$ e $Y_{2}$ sabemos que $M(t)_{\\nu_1 + \\nu_2} = M(t)_{\\nu_1}M(t)_{\\nu_2}$:\n",
    "\n",
    "\\begin{align}\n",
    " M(t)_{\\nu_1 + \\nu_2} &= M(t)_{\\nu_1}M(t)_{\\nu_2} \\\\\n",
    " &=(1-2t)^{-\\frac{\\nu_1}{2}} (1-2t)^{-\\frac{\\nu_2}{2}} \\\\\n",
    " & = (1-2t)^{-\\frac{(\\nu_1 + \\nu_2)}{2}}\n",
    "\\end{align}\n",
    "\n",
    "Lo cual es la función generadora de $Y_1 + Y_2$. \n",
    "\n",
    "\n",
    "${\\bf c)}$ Veamos cómo es la definición de la función generadora de momento de $Z\\sim N(0,1)$:\n",
    "\n",
    "\\begin{align}\n",
    " M(t)_{Z} = \\mathbb{E}(e^{Zt}) = \\frac{1}{\\sqrt{2\\pi}}\\int_{-\\infty}^{\\infty} e^{zt} e^{-\\frac{z^{2}}{2}}dz\n",
    "\\end{align}\n",
    "\n",
    "Ahora usemos esta definición pero para $f(X) = H = Z^{2}$:\n",
    "\n",
    "\n",
    "\\begin{align}\n",
    " M(t)_{H} &= \\mathbb{E}(e^{Z^2t}) = \\frac{1}{\\sqrt{2\\pi}}\\int_{-\\infty}^{\\infty} e^{z^2t} e^{-\\frac{z^{2}}{2}}dz\n",
    " \\\\ &= \\frac{1}{\\sqrt{2\\pi}} \\underbrace{\\int_{-\\infty}^{\\infty} e^{\\frac{-z^{2}}{2}(1 - 2t)} dz}_{z\\sqrt{1-2t} = k} \\\\\n",
    " \\\\ &=  \\frac{1}{\\sqrt{2\\pi}} \\frac{1}{\\sqrt{1-2t}} \\underbrace{\\int_{-\\infty}^{\\infty} e^{-\\frac{k^2}{2}}dk}_{\\sqrt{2\\pi}} \\\\\n",
    "   \\rightarrow  M(t)_{H} &= (1 - 2t)^{-\\frac{1}{2}}\n",
    "\\end{align}\n",
    "\n",
    "La cual podemos identificar como la generadora de momentos de $\\chi^2$ de $\\nu=1$ grados de libertad, por ende, $H\\sim \\chi^2$. Usando el resultado anterior, calculemos ahora la distribución de $Y = \\sum \\limits_{i=1}^{n}{Z_{i}}^2$, con ${Z_{i}}^{2}\\sim \\chi^2$ con $\\nu = 1$:\n",
    "\n",
    "\\begin{align}\n",
    " Y &= \\sum \\limits_{i=1}^{n} {Z_{i}}^2 \\\\\n",
    " \\rightarrow M_{Y}(t) &= M_{{Z_1}^2}(t)M_{{Z_1}^2}...M_{{Z_n}^2} \\\\\n",
    "  &= \\underbrace{(1 - 2t)^{\\frac{1}{2}} \\cdot (1-2t)^{\\frac{1}{2}} .... (1-2t)^{\\frac{1}{2}}}_{n \\text{veces}} \\\\\n",
    "  & = (1-2t)^{\\frac{n}{2}}\n",
    "\\end{align}\n",
    "La cual reconocemos como la función generadora de $\\chi^2$ con $\\nu = n$ grados de libertad, por lo tanto $Y\\sim {\\chi^{2}}_{n}$. Más explícitamente:\n",
    "\n",
    "\\begin{align}\n",
    " f_{n}(x) = \\frac{1}{\\Gamma(\\frac{n}{2})2^{\\frac{n}{2}}}x^{\\frac{n}{2}-1}e^{ -\\frac{x}{2}}\n",
    "\\end{align}\n"
   ]
  }
 ],
 "metadata": {
  "kernelspec": {
   "display_name": "Python 2",
   "language": "python",
   "name": "python2"
  },
  "language_info": {
   "codemirror_mode": {
    "name": "ipython",
    "version": 2
   },
   "file_extension": ".py",
   "mimetype": "text/x-python",
   "name": "python",
   "nbconvert_exporter": "python",
   "pygments_lexer": "ipython2",
   "version": "2.7.5"
  }
 },
 "nbformat": 4,
 "nbformat_minor": 0
}
